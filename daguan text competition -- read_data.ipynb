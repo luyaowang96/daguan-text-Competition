{
 "cells": [
  {
   "cell_type": "markdown",
   "metadata": {},
   "source": [
    "## 读取训练集数据\n",
    "* 怕内存爆表，读取前5000行"
   ]
  },
  {
   "cell_type": "code",
   "execution_count": 2,
   "metadata": {
    "collapsed": false
   },
   "outputs": [],
   "source": [
    "import pandas as pd\n",
    "import numpy as np\n",
    "from sklearn.model_selection import train_test_split "
   ]
  },
  {
   "cell_type": "code",
   "execution_count": 5,
   "metadata": {
    "collapsed": false
   },
   "outputs": [],
   "source": [
    "pd_train = pd.read_csv('D:/NLP_datasets/daguan/new_data/train_set.csv',nrows=5000)"
   ]
  },
  {
   "cell_type": "code",
   "execution_count": 6,
   "metadata": {
    "collapsed": false
   },
   "outputs": [
    {
     "data": {
      "text/html": [
       "<div>\n",
       "<table border=\"1\" class=\"dataframe\">\n",
       "  <thead>\n",
       "    <tr style=\"text-align: right;\">\n",
       "      <th></th>\n",
       "      <th>﻿id</th>\n",
       "      <th>article</th>\n",
       "      <th>word_seg</th>\n",
       "      <th>class</th>\n",
       "    </tr>\n",
       "  </thead>\n",
       "  <tbody>\n",
       "    <tr>\n",
       "      <th>0</th>\n",
       "      <td>0</td>\n",
       "      <td>7368 1252069 365865 755561 1044285 129532 1053...</td>\n",
       "      <td>816903 597526 520477 1179558 1033823 758724 63...</td>\n",
       "      <td>14</td>\n",
       "    </tr>\n",
       "    <tr>\n",
       "      <th>1</th>\n",
       "      <td>1</td>\n",
       "      <td>581131 165432 7368 957317 1197553 570900 33659...</td>\n",
       "      <td>90540 816903 441039 816903 569138 816903 10343...</td>\n",
       "      <td>3</td>\n",
       "    </tr>\n",
       "    <tr>\n",
       "      <th>2</th>\n",
       "      <td>2</td>\n",
       "      <td>7368 87936 40494 490286 856005 641588 145611 1...</td>\n",
       "      <td>816903 1012629 957974 1033823 328210 947200 65...</td>\n",
       "      <td>12</td>\n",
       "    </tr>\n",
       "    <tr>\n",
       "      <th>3</th>\n",
       "      <td>3</td>\n",
       "      <td>299237 760651 299237 887082 159592 556634 7489...</td>\n",
       "      <td>563568 1239563 680125 780219 782805 1033823 19...</td>\n",
       "      <td>13</td>\n",
       "    </tr>\n",
       "    <tr>\n",
       "      <th>4</th>\n",
       "      <td>4</td>\n",
       "      <td>7368 7368 7368 865510 7368 396966 995243 37685...</td>\n",
       "      <td>816903 816903 816903 139132 816903 312320 1103...</td>\n",
       "      <td>12</td>\n",
       "    </tr>\n",
       "  </tbody>\n",
       "</table>\n",
       "</div>"
      ],
      "text/plain": [
       "   ﻿id                                            article  \\\n",
       "0    0  7368 1252069 365865 755561 1044285 129532 1053...   \n",
       "1    1  581131 165432 7368 957317 1197553 570900 33659...   \n",
       "2    2  7368 87936 40494 490286 856005 641588 145611 1...   \n",
       "3    3  299237 760651 299237 887082 159592 556634 7489...   \n",
       "4    4  7368 7368 7368 865510 7368 396966 995243 37685...   \n",
       "\n",
       "                                            word_seg  class  \n",
       "0  816903 597526 520477 1179558 1033823 758724 63...     14  \n",
       "1  90540 816903 441039 816903 569138 816903 10343...      3  \n",
       "2  816903 1012629 957974 1033823 328210 947200 65...     12  \n",
       "3  563568 1239563 680125 780219 782805 1033823 19...     13  \n",
       "4  816903 816903 816903 139132 816903 312320 1103...     12  "
      ]
     },
     "execution_count": 6,
     "metadata": {},
     "output_type": "execute_result"
    }
   ],
   "source": [
    "pd_train.head()"
   ]
  },
  {
   "cell_type": "code",
   "execution_count": 11,
   "metadata": {
    "collapsed": false
   },
   "outputs": [
    {
     "data": {
      "text/plain": [
       "﻿id         False\n",
       "article     False\n",
       "word_seg    False\n",
       "class       False\n",
       "dtype: bool"
      ]
     },
     "execution_count": 11,
     "metadata": {},
     "output_type": "execute_result"
    }
   ],
   "source": [
    "pd_train.isnull().any()##是否有空缺值"
   ]
  },
  {
   "cell_type": "code",
   "execution_count": 18,
   "metadata": {
    "collapsed": false
   },
   "outputs": [
    {
     "data": {
      "text/plain": [
       "5     114\n",
       "2     139\n",
       "17    158\n",
       "11    159\n",
       "16    159\n",
       "7     171\n",
       "4     191\n",
       "10    219\n",
       "12    260\n",
       "1     262\n",
       "19    285\n",
       "18    313\n",
       "14    328\n",
       "8     339\n",
       "6     349\n",
       "9     354\n",
       "15    396\n",
       "3     399\n",
       "13    405\n",
       "Name: class, dtype: int64"
      ]
     },
     "execution_count": 18,
     "metadata": {},
     "output_type": "execute_result"
    }
   ],
   "source": [
    "pd_train['class'].value_counts(ascending=True) ##检测前5000组数据样本类别的分布情况"
   ]
  },
  {
   "cell_type": "code",
   "execution_count": 24,
   "metadata": {
    "collapsed": false
   },
   "outputs": [
    {
     "name": "stderr",
     "output_type": "stream",
     "text": [
      "ERROR:lml.utils:failed to import pyecharts_snapshot\n",
      "Traceback (most recent call last):\n",
      "  File \"C:\\Users\\LENOVO\\anaconda\\lib\\site-packages\\lml\\utils.py\", line 43, in do_import\n",
      "    plugin_module = __import__(plugin_module_name)\n",
      "ImportError: No module named 'pyecharts_snapshot'\n"
     ]
    },
    {
     "data": {
      "text/html": [
       "<script>\n",
       "    require.config({\n",
       "        paths: {\n",
       "            'echarts': '/nbextensions/echarts/echarts.min'\n",
       "        }\n",
       "    });\n",
       "</script>\n",
       "    <div id=\"54b153b151c74cd89f1511851b065402\" style=\"width:800px;height:400px;\"></div>\n",
       "\n",
       "\n",
       "<script>\n",
       "    require(['echarts'], function(echarts) {\n",
       "        \n",
       "var myChart_54b153b151c74cd89f1511851b065402 = echarts.init(document.getElementById('54b153b151c74cd89f1511851b065402'), 'dark', {renderer: 'canvas'});\n",
       "\n",
       "var option_54b153b151c74cd89f1511851b065402 = {\n",
       "    \"color\": [],\n",
       "    \"legend\": [\n",
       "        {\n",
       "            \"data\": [\n",
       "                \"class\"\n",
       "            ],\n",
       "            \"textStyle\": {\n",
       "                \"fontSize\": 12\n",
       "            },\n",
       "            \"show\": true,\n",
       "            \"left\": \"center\",\n",
       "            \"orient\": \"horizontal\",\n",
       "            \"selectedMode\": \"multiple\",\n",
       "            \"top\": \"top\"\n",
       "        }\n",
       "    ],\n",
       "    \"tooltip\": {\n",
       "        \"textStyle\": {\n",
       "            \"fontSize\": 14\n",
       "        },\n",
       "        \"backgroundColor\": \"rgba(50,50,50,0.7)\",\n",
       "        \"trigger\": \"item\",\n",
       "        \"triggerOn\": \"mousemove|click\",\n",
       "        \"axisPointer\": {\n",
       "            \"type\": \"line\"\n",
       "        },\n",
       "        \"borderColor\": \"#333\",\n",
       "        \"borderWidth\": 0\n",
       "    },\n",
       "    \"animation\": true,\n",
       "    \"xAxis\": [\n",
       "        {\n",
       "            \"nameTextStyle\": {\n",
       "                \"fontSize\": 14\n",
       "            },\n",
       "            \"splitLine\": {\n",
       "                \"show\": false\n",
       "            },\n",
       "            \"type\": \"category\",\n",
       "            \"nameLocation\": \"middle\",\n",
       "            \"data\": [\n",
       "                5.0,\n",
       "                2.0,\n",
       "                17.0,\n",
       "                11.0,\n",
       "                16.0,\n",
       "                7.0,\n",
       "                4.0,\n",
       "                10.0,\n",
       "                12.0,\n",
       "                1.0,\n",
       "                19.0,\n",
       "                18.0,\n",
       "                14.0,\n",
       "                8.0,\n",
       "                6.0,\n",
       "                9.0,\n",
       "                15.0,\n",
       "                3.0,\n",
       "                13.0\n",
       "            ],\n",
       "            \"axisTick\": {\n",
       "                \"alignWithLabel\": false\n",
       "            },\n",
       "            \"axisLine\": {\n",
       "                \"lineStyle\": {\n",
       "                    \"width\": 1\n",
       "                }\n",
       "            },\n",
       "            \"show\": true,\n",
       "            \"axisLabel\": {\n",
       "                \"textStyle\": {\n",
       "                    \"fontSize\": 12\n",
       "                },\n",
       "                \"interval\": \"auto\",\n",
       "                \"margin\": 8,\n",
       "                \"rotate\": 0\n",
       "            },\n",
       "            \"boundaryGap\": true,\n",
       "            \"nameGap\": 25,\n",
       "            \"inverse\": false\n",
       "        }\n",
       "    ],\n",
       "    \"yAxis\": [\n",
       "        {\n",
       "            \"axisTick\": {\n",
       "                \"alignWithLabel\": false\n",
       "            },\n",
       "            \"axisLine\": {\n",
       "                \"lineStyle\": {\n",
       "                    \"width\": 1\n",
       "                }\n",
       "            },\n",
       "            \"show\": true,\n",
       "            \"nameGap\": 25,\n",
       "            \"inverse\": false,\n",
       "            \"axisLabel\": {\n",
       "                \"formatter\": \"{value} \",\n",
       "                \"interval\": \"auto\",\n",
       "                \"margin\": 8,\n",
       "                \"rotate\": 0,\n",
       "                \"textStyle\": {\n",
       "                    \"fontSize\": 12\n",
       "                }\n",
       "            },\n",
       "            \"nameTextStyle\": {\n",
       "                \"fontSize\": 14\n",
       "            },\n",
       "            \"splitLine\": {\n",
       "                \"show\": true\n",
       "            },\n",
       "            \"boundaryGap\": true,\n",
       "            \"type\": \"value\",\n",
       "            \"nameLocation\": \"middle\"\n",
       "        }\n",
       "    ],\n",
       "    \"series\": [\n",
       "        {\n",
       "            \"data\": [\n",
       "                114.0,\n",
       "                139.0,\n",
       "                158.0,\n",
       "                159.0,\n",
       "                159.0,\n",
       "                171.0,\n",
       "                191.0,\n",
       "                219.0,\n",
       "                260.0,\n",
       "                262.0,\n",
       "                285.0,\n",
       "                313.0,\n",
       "                328.0,\n",
       "                339.0,\n",
       "                349.0,\n",
       "                354.0,\n",
       "                396.0,\n",
       "                399.0,\n",
       "                405.0\n",
       "            ],\n",
       "            \"barCategoryGap\": \"20%\",\n",
       "            \"type\": \"bar\",\n",
       "            \"name\": \"class\",\n",
       "            \"label\": {\n",
       "                \"normal\": {\n",
       "                    \"textStyle\": {\n",
       "                        \"fontSize\": 12\n",
       "                    },\n",
       "                    \"position\": \"top\",\n",
       "                    \"show\": true\n",
       "                },\n",
       "                \"emphasis\": {\n",
       "                    \"textStyle\": {\n",
       "                        \"fontSize\": 12\n",
       "                    },\n",
       "                    \"show\": true\n",
       "                }\n",
       "            },\n",
       "            \"markPoint\": {\n",
       "                \"data\": []\n",
       "            },\n",
       "            \"markLine\": {\n",
       "                \"data\": []\n",
       "            },\n",
       "            \"seriesId\": 2378776\n",
       "        }\n",
       "    ],\n",
       "    \"toolbox\": {\n",
       "        \"show\": true,\n",
       "        \"feature\": {\n",
       "            \"restore\": {\n",
       "                \"show\": true,\n",
       "                \"title\": \"restore\"\n",
       "            },\n",
       "            \"dataView\": {\n",
       "                \"show\": true,\n",
       "                \"title\": \"data view\"\n",
       "            },\n",
       "            \"saveAsImage\": {\n",
       "                \"show\": true,\n",
       "                \"title\": \"save as image\"\n",
       "            }\n",
       "        },\n",
       "        \"left\": \"95%\",\n",
       "        \"orient\": \"vertical\",\n",
       "        \"top\": \"center\"\n",
       "    },\n",
       "    \"series_id\": 2378776,\n",
       "    \"title\": [\n",
       "        {\n",
       "            \"textStyle\": {\n",
       "                \"fontSize\": 18\n",
       "            },\n",
       "            \"subtextStyle\": {\n",
       "                \"fontSize\": 12\n",
       "            },\n",
       "            \"left\": \"auto\",\n",
       "            \"text\": \"\\u524d5000\\u4e2a\\u6570\\u636e\\u7684\\u7c7b\\u522b\\u5206\\u5e03\\u56fe\",\n",
       "            \"top\": \"auto\"\n",
       "        }\n",
       "    ]\n",
       "};\n",
       "myChart_54b153b151c74cd89f1511851b065402.setOption(option_54b153b151c74cd89f1511851b065402);\n",
       "\n",
       "    });\n",
       "</script>\n"
      ],
      "text/plain": [
       "<pyecharts.charts.bar.Bar at 0x10f8e940>"
      ]
     },
     "execution_count": 24,
     "metadata": {},
     "output_type": "execute_result"
    }
   ],
   "source": [
    "from pyecharts import Bar\n",
    "\n",
    "x = pd_train['class'].value_counts(ascending=True).index\n",
    "v = pd_train['class'].value_counts(ascending=True).values\n",
    "bar = Bar('前5000个数据的类别分布图')\n",
    "bar.use_theme('dark')\n",
    "bar.add('class',x,v,is_label_show=True,is_data_show=True)\n",
    "bar"
   ]
  },
  {
   "cell_type": "code",
   "execution_count": 26,
   "metadata": {
    "collapsed": false
   },
   "outputs": [
    {
     "data": {
      "text/plain": [
       "((4000, 2), (1000, 2), (4000,), (1000,))"
      ]
     },
     "execution_count": 26,
     "metadata": {},
     "output_type": "execute_result"
    }
   ],
   "source": [
    "x = pd_train[['article','word_seg']]\n",
    "y = pd_train['class']\n",
    "x_train,x_test,y_train,y_test = train_test_split(x,y,test_size=0.2,random_state=42)\n",
    "x_train.shape,x_test.shape,y_train.shape,y_test.shape"
   ]
  },
  {
   "cell_type": "code",
   "execution_count": null,
   "metadata": {
    "collapsed": true
   },
   "outputs": [],
   "source": []
  }
 ],
 "metadata": {
  "anaconda-cloud": {},
  "kernelspec": {
   "display_name": "Python [default]",
   "language": "python",
   "name": "python3"
  },
  "language_info": {
   "codemirror_mode": {
    "name": "ipython",
    "version": 3
   },
   "file_extension": ".py",
   "mimetype": "text/x-python",
   "name": "python",
   "nbconvert_exporter": "python",
   "pygments_lexer": "ipython3",
   "version": "3.5.2"
  }
 },
 "nbformat": 4,
 "nbformat_minor": 1
}
